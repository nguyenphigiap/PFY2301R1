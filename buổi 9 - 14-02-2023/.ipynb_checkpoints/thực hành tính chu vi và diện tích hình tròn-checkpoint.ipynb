{
 "cells": [
  {
   "cell_type": "markdown",
   "id": "bde1cf48",
   "metadata": {},
   "source": [
    "Nhập vào bán kính của hình tròn, vẽ hình tròn có bán kính đã nhập, tính chu vi và diện tích của hình tròn có bán kính vừa nhập, hiển thị kết quả ra màn hình"
   ]
  },
  {
   "cell_type": "code",
   "execution_count": 4,
   "id": "787150da",
   "metadata": {},
   "outputs": [
    {
     "name": "stdout",
     "output_type": "stream",
     "text": [
      "Enter the radius: 20\n",
      "chu vi hình tròn là: 125.66370614359172\n",
      "diện tích hình tròn là: 1256.6370614359173\n"
     ]
    }
   ],
   "source": [
    "# import module \n",
    "import turtle\n",
    "import math\n",
    "\n",
    "# nhập và Vẽ hình tròn\n",
    "\n",
    "r = int(input(\"Enter the radius: \"))\n",
    "pen = turtle.Turtle()\n",
    "pen.pensize(5)\n",
    "pen.color(\"blue\")\n",
    "pen.circle(r)\n",
    "turtle.done()\n",
    "\n",
    "# tính chu vi và diện tích hình tròn\n",
    "c = 2 * math.pi * r\n",
    "s = math.pi * r * r\n",
    "\n",
    "# hiển thị kết quả chu vi, diện tích\n",
    "print(f\"chu vi hình tròn là: {c}\")\n",
    "print(f\"diện tích hình tròn là: {s}\")"
   ]
  }
 ],
 "metadata": {
  "kernelspec": {
   "display_name": "Python 3 (ipykernel)",
   "language": "python",
   "name": "python3"
  },
  "language_info": {
   "codemirror_mode": {
    "name": "ipython",
    "version": 3
   },
   "file_extension": ".py",
   "mimetype": "text/x-python",
   "name": "python",
   "nbconvert_exporter": "python",
   "pygments_lexer": "ipython3",
   "version": "3.11.1"
  }
 },
 "nbformat": 4,
 "nbformat_minor": 5
}
