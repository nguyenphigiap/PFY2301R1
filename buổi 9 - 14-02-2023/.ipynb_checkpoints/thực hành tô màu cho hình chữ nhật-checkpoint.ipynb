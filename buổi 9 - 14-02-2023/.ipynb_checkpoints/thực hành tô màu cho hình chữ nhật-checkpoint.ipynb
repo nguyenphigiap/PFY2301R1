{
 "cells": [
  {
   "cell_type": "markdown",
   "id": "84c13a05",
   "metadata": {},
   "source": [
    "nhập vào tên màu / mã màu cần tô. nhập vào chiều dài, chiều rộng hình chữ nhật, vẽ hình chữ nhật, tô màu cho hình tròn theo màu vừa nhập"
   ]
  },
  {
   "cell_type": "code",
   "execution_count": 18,
   "id": "35bf9ff5",
   "metadata": {},
   "outputs": [
    {
     "name": "stdout",
     "output_type": "stream",
     "text": [
      "nhập vào mã màu: red\n",
      "nhập vào chiều dài hình chữ nhật: 40\n",
      "nhập vào chiều rộng hình chữ nhật: 20\n"
     ]
    }
   ],
   "source": [
    "# import module cần thiết\n",
    "import turtle\n",
    "\n",
    "# nhập vào tên màu, mã màu, nhập vào chiều dài, rộng hình chữ nhật\n",
    "color = input(\"nhập vào mã màu: \")\n",
    "w = float(input(\"nhập vào chiều dài hình chữ nhật: \"))\n",
    "h = float(input(\"nhập vào chiều rộng hình chữ nhật: \"))\n",
    "\n",
    "# Vẽ hình chữ nhật\n",
    "\n",
    "pen = turtle.Turtle()\n",
    "#pen.hideturtle()\n",
    "\n",
    "# tô màu hình chữ nhật\n",
    "pen.pensize(1)\n",
    "pen.speed(5)\n",
    "\n",
    "pen.fillcolor(color)\n",
    "pen.begin_fill()\n",
    "pen.forward(w)\n",
    "pen.right(90)\n",
    "pen.forward(h)\n",
    "pen.right(90)\n",
    "pen.forward(w)\n",
    "pen.right(90)\n",
    "pen.forward(h)\n",
    "pen.end_fill()\n",
    "turtle.done()"
   ]
  }
 ],
 "metadata": {
  "kernelspec": {
   "display_name": "Python 3 (ipykernel)",
   "language": "python",
   "name": "python3"
  },
  "language_info": {
   "codemirror_mode": {
    "name": "ipython",
    "version": 3
   },
   "file_extension": ".py",
   "mimetype": "text/x-python",
   "name": "python",
   "nbconvert_exporter": "python",
   "pygments_lexer": "ipython3",
   "version": "3.11.1"
  }
 },
 "nbformat": 4,
 "nbformat_minor": 5
}
