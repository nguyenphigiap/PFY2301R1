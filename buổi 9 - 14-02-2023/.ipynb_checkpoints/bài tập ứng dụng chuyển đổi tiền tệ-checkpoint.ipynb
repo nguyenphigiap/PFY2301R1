{
 "cells": [
  {
   "cell_type": "markdown",
   "id": "f592eb1e",
   "metadata": {},
   "source": [
    "Ứng dụng chuyển đổi tiền tệ cho phép tính giá trị tiền tệ giữa các đồng tiền khác nhau dựa vào 1 tỷ giá cho trước"
   ]
  },
  {
   "cell_type": "code",
   "execution_count": 6,
   "id": "1a5eb542",
   "metadata": {},
   "outputs": [
    {
     "name": "stdout",
     "output_type": "stream",
     "text": [
      "nhập số tiền USD cần đổi: 34\n",
      "nhập tỷ giá USD/VND: 23450\n",
      "34 đô la quy đổi sang việt nam đồng là: 797300 vnd\n"
     ]
    }
   ],
   "source": [
    "tien_usd = int(input(\"nhập số tiền USD cần đổi: \"))\n",
    "ty_gia_usd_vnd = int(input(\"nhập tỷ giá USD/VND: \"))\n",
    "tien_doi_tu_usd_sang_vnd = tien_usd * ty_gia_usd_vnd\n",
    "print(f\"{tien_usd} đô la quy đổi sang việt nam đồng là: {tien_doi_tu_usd_sang_vnd} vnd\")\n",
    "\n"
   ]
  }
 ],
 "metadata": {
  "kernelspec": {
   "display_name": "Python 3 (ipykernel)",
   "language": "python",
   "name": "python3"
  },
  "language_info": {
   "codemirror_mode": {
    "name": "ipython",
    "version": 3
   },
   "file_extension": ".py",
   "mimetype": "text/x-python",
   "name": "python",
   "nbconvert_exporter": "python",
   "pygments_lexer": "ipython3",
   "version": "3.11.1"
  }
 },
 "nbformat": 4,
 "nbformat_minor": 5
}
