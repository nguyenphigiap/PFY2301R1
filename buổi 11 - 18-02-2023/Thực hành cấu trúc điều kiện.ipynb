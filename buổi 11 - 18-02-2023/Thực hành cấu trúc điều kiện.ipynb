{
 "cells": [
  {
   "cell_type": "markdown",
   "id": "49302863",
   "metadata": {},
   "source": [
    "# Thực hành: Cấu trúc điều kiện"
   ]
  },
  {
   "cell_type": "markdown",
   "id": "46ccf6e6",
   "metadata": {},
   "source": [
    "### Bài 1: Viết chương trình nhập vào chiều dài và chiều rộng của hình chữ nhật và cho biết đó có phải là hình vuông hay không."
   ]
  },
  {
   "cell_type": "code",
   "execution_count": null,
   "id": "556994f0",
   "metadata": {},
   "outputs": [],
   "source": [
    "length_rectangle = float(input(\"please input length rectangle: \"))\n",
    "width_rectangle = float(input(\"please input width rectangle: \"))\n",
    "if length_rectangle == width_rectangle: print(\"this is a square\")\n",
    "else: print(\"this is not a square\")\n"
   ]
  },
  {
   "cell_type": "code",
   "execution_count": null,
   "id": "8c5eb0ac",
   "metadata": {},
   "outputs": [],
   "source": [
    "# chữa bài\n",
    "length == int(input(\"please input lenght of retangle: \"))\n",
    "width == int(input(\"please input width of rectangle: \"))\n",
    "\n",
    "if length == width:\n",
    "    print((\"this is a square\"))\n",
    "else: \n",
    "    print(\"this is a rectangle\")"
   ]
  },
  {
   "cell_type": "markdown",
   "id": "9fb580f4",
   "metadata": {},
   "source": [
    "### Bài 2: Viết chương trình nhập vào 2 số a, b và in ra số lớn nhất"
   ]
  },
  {
   "cell_type": "code",
   "execution_count": 36,
   "id": "8addea4b",
   "metadata": {
    "scrolled": true
   },
   "outputs": [
    {
     "name": "stdout",
     "output_type": "stream",
     "text": [
      "Please input number a: 7.8\n",
      "please input number b: 7.8\n",
      "7.8 is the largest number\n"
     ]
    }
   ],
   "source": [
    "a = float(input(\"Please input number a: \"))\n",
    "b = float(input(\"please input number b: \"))\n",
    "if a > b: print(f\"{a} is the largest number\")\n",
    "else: print(f\"{b} is the largest number\")"
   ]
  },
  {
   "cell_type": "code",
   "execution_count": null,
   "id": "24e7fe3b",
   "metadata": {},
   "outputs": [],
   "source": [
    "# chữa bài\n",
    "a = int(input(\"please input number a: \"))\n",
    "b = int(input(\"please input number b: \"))\n",
    "\n",
    "if a > b:\n",
    "    print(f\"Max value is {a}\")\n",
    "else: \n",
    "    print(f\"max value is {b}\")"
   ]
  },
  {
   "cell_type": "markdown",
   "id": "69d21160",
   "metadata": {},
   "source": [
    "### Bài 3: Viết chương trình nhập vào 3 số a, b, c và in ra số lớn nhất"
   ]
  },
  {
   "cell_type": "code",
   "execution_count": 40,
   "id": "999d6399",
   "metadata": {},
   "outputs": [
    {
     "name": "stdout",
     "output_type": "stream",
     "text": [
      "please input number a: -9\n",
      "please input number b: -8\n",
      "please input number c: 6\n",
      "6.0 is the largest number\n"
     ]
    }
   ],
   "source": [
    "a = float(input(\"please input number a: \"))\n",
    "b = float(input(\"please input number b: \"))\n",
    "c = float(input(\"please input number c: \"))\n",
    "if a > b and a > c: print(f\"{a} is the largest number\")\n",
    "elif b > a and b > c: print(f\"{b} is the largest number\")\n",
    "else: print(f\"{c} is the largest number\")"
   ]
  },
  {
   "cell_type": "code",
   "execution_count": null,
   "id": "1858b837",
   "metadata": {},
   "outputs": [],
   "source": [
    "# chữa bài\n",
    "a = int(input(\"please input number a: \"))\n",
    "b = int(input(\"please input number b: \"))\n",
    "c = int(input(\"please input number c: \"))\n",
    "\n",
    "if a > b and a > c: \n",
    "    print(f\"max value is {a}\")\n",
    "elif b > c:\n",
    "    print(f\"max value is {b}\")\n",
    "else: \n",
    "    print(\"f max value is {c}\")"
   ]
  },
  {
   "cell_type": "code",
   "execution_count": 1,
   "id": "51b09f8c",
   "metadata": {},
   "outputs": [
    {
     "name": "stdout",
     "output_type": "stream",
     "text": [
      "please input number a: 6\n",
      "please input number b: 7\n",
      "please input number c: 8\n",
      "max value is 8\n"
     ]
    }
   ],
   "source": [
    "a = int(input(\"please input number a: \"))\n",
    "b = int(input(\"please input number b: \"))\n",
    "c = int(input(\"please input number c: \"))\n",
    "\n",
    "max_value = a\n",
    "if max_value < b:\n",
    "    max_value = b\n",
    "if max_value < c:\n",
    "    max_value = c\n",
    "print(f\"max value is {max_value}\")"
   ]
  },
  {
   "cell_type": "markdown",
   "id": "4e8b134a",
   "metadata": {},
   "source": [
    "### Bài 4: Viết chương trình nhập vào số tuổi của 3 người và cho biết ai là người trẻ nhất và ai là người lớn tuổi nhất"
   ]
  },
  {
   "cell_type": "code",
   "execution_count": 5,
   "id": "595c46a2",
   "metadata": {},
   "outputs": [
    {
     "name": "stdout",
     "output_type": "stream",
     "text": [
      "please input age 1: 4\n",
      "please input age 2: 5\n",
      "please input age 3: 78\n",
      "max age is 78\n",
      "person 3 is the oldest person\n",
      "min age is 4\n",
      "person 1 is the youngest\n"
     ]
    }
   ],
   "source": [
    "a = int(input(\"please input age 1: \"))\n",
    "b = int(input(\"please input age 2: \"))\n",
    "c = int(input(\"please input age 3: \"))\n",
    "\n",
    "#fine the oldest person\n",
    "max_value = a\n",
    "max_index = 1\n",
    "if max_value < b:\n",
    "    max_value = b\n",
    "    max_index = 2\n",
    "if max_value < c:\n",
    "    max_value = c\n",
    "    max_index = 3\n",
    "print(f\"max age is {max_value}\")\n",
    "print(f\"person {max_index} is the oldest person\")\n",
    "\n",
    "\n",
    "#find the youngest person\n",
    "min_value = a\n",
    "min_index = 1\n",
    "if min_value > b:\n",
    "    min_value = b\n",
    "    min_index = 2\n",
    "if min_value > c:\n",
    "    min_value = c\n",
    "    min_index = 3\n",
    "print(f\"min age is {min_value}\")\n",
    "print(f\"person {min_index} is the youngest\")"
   ]
  },
  {
   "cell_type": "markdown",
   "id": "bab39fe3",
   "metadata": {},
   "source": [
    "### Bài 5: Viết chương trình nhập vào một số bất kỳ và in ra giá trị tuyệt đối của số đó"
   ]
  },
  {
   "cell_type": "code",
   "execution_count": 27,
   "id": "db1b6c29",
   "metadata": {},
   "outputs": [
    {
     "name": "stdout",
     "output_type": "stream",
     "text": [
      "please input is number: -9.5\n",
      "absolute value of the number -9.5 is : 9.5\n"
     ]
    }
   ],
   "source": [
    "number = float(input(\"please input is number: \"))\n",
    "if number >= 0: print(f\"absolute value of the number {number} is : {number} \")\n",
    "elif number < 0: print(f\"absolute value of the number {number} is : {number * (- 1)}\")\n",
    "                       "
   ]
  },
  {
   "cell_type": "code",
   "execution_count": null,
   "id": "70ebc392",
   "metadata": {},
   "outputs": [],
   "source": [
    "# chữa bài\n",
    "num = int(input(\"please input number: \"))\n",
    "if num >= 0:\n",
    "    print(f\"absolute value of {num} is {num}\")\n",
    "else: \n",
    "    print(f\"absolute vales of {num} is {-num}\")"
   ]
  },
  {
   "cell_type": "code",
   "execution_count": null,
   "id": "b66588a5",
   "metadata": {},
   "outputs": [],
   "source": []
  },
  {
   "cell_type": "markdown",
   "id": "34ff32df",
   "metadata": {},
   "source": [
    "### Bài 6: Học viên sẽ không đủ điều kiện thi nếu tỉ lệ có mặt nhỏ hơn 75%. Viết chương trình nhập vào tổng số buổi học của một khóa học và tổng số buổi học mà học viên tham gia. Sau đó cho biết học viên đó có đủ điều kiện thi hay không."
   ]
  },
  {
   "cell_type": "code",
   "execution_count": 6,
   "id": "3eaa86ce",
   "metadata": {},
   "outputs": [
    {
     "name": "stdout",
     "output_type": "stream",
     "text": [
      "please input amount of presen leson: 6\n",
      "please input amount of total lessons: 7\n",
      "you are allowed to tack the exam.\n"
     ]
    }
   ],
   "source": [
    "present_lessons = int(input(\"please input amount of presen leson: \"))\n",
    "total_lessons = int(input(\"please input amount of total lessons: \"))\n",
    "if present_lessons / total_lessons >= 0.75:\n",
    "    print(\"you are allowed to tack the exam.\")\n",
    "else: \n",
    "    print(\"you are not allowed to take the exam\")"
   ]
  },
  {
   "cell_type": "markdown",
   "id": "dfd13726",
   "metadata": {},
   "source": [
    "### Bài 7: Một công ty vận tải có cách tính chi phí giao hàng như sau:\n",
    "1. 10kilogram đầu tiên: \\$5/kg\n",
    "2. Từ kilogram thứ 11 đến 20: \\$7/kg\n",
    "3. Từ kilogram thứ 20 trở lên: \\$10/kg\n",
    "\n",
    "Viết chương trình nhập vào số kg cần giao(số nguyên) và in ra chi phí giao hàng tương ứng"
   ]
  },
  {
   "attachments": {
    "image.png": {
     "image/png": "[encoded data removed]"
    }
   },
   "cell_type": "markdown",
   "id": "8d9643d9",
   "metadata": {},
   "source": [
    "![image.png](attachment:image.png)"
   ]
  },
  {
   "cell_type": "code",
   "execution_count": 7,
   "id": "efc97488",
   "metadata": {},
   "outputs": [
    {
     "name": "stdout",
     "output_type": "stream",
     "text": [
      "please input the weight of the package: 56\n",
      "shipping cost is 480USD.\n"
     ]
    }
   ],
   "source": [
    "weight = int(input(\"please input the weight of the package: \"))\n",
    "\n",
    "if weight <=10:\n",
    "    print(f\"shipping cost is {weight * 5}USD.\")\n",
    "elif weight <=20:\n",
    "    print(f\"shipping cost is {5 * 10 + (weight - 10) * 7}USD.\")\n",
    "else:\n",
    "    print(f\"shipping cost is {5 * 10 + 7 * 10 + (weight - 20) * 10}USD.\")"
   ]
  },
  {
   "cell_type": "markdown",
   "id": "bd90d2aa",
   "metadata": {},
   "source": [
    "### Bài 8: Viết chương trình nhập vào số năm và cho biết năm đó là năm nhuận hay năm không nhuận."
   ]
  },
  {
   "cell_type": "code",
   "execution_count": 8,
   "id": "b76553cd",
   "metadata": {},
   "outputs": [
    {
     "name": "stdout",
     "output_type": "stream",
     "text": [
      "please input a year: 2024\n",
      "2024 is a leap year\n"
     ]
    }
   ],
   "source": [
    "year = int(input(\"please input a year: \"))\n",
    "if year % 400 == 0 or (year % 4 == 0 and year % 100 != 0):\n",
    "    print(f\"{year} is a leap year\")\n",
    "else:\n",
    "    print(f\"{year} is not a leap year\")"
   ]
  },
  {
   "cell_type": "markdown",
   "id": "b9785142",
   "metadata": {},
   "source": [
    "### Bài 9: Viết chương trình nhập vào 1 số từ 1 đến 7 và in ra số ngày trong tuần tương ứng như sau:\n",
    "- 1: Sunday\n",
    "- 2: Monday\n",
    "- 3: Tuesday\n",
    "- 4: Wednesday\n",
    "- 5: Thursday\n",
    "- 6: Friday\n",
    "- 7: Saturday"
   ]
  },
  {
   "cell_type": "code",
   "execution_count": 2,
   "id": "f34e32bc",
   "metadata": {
    "scrolled": true
   },
   "outputs": [
    {
     "name": "stdout",
     "output_type": "stream",
     "text": [
      "Please input is number: 4\n",
      "4 is wednesday\n"
     ]
    }
   ],
   "source": [
    "number = int(input(\"Please input is number: \"))\n",
    "if number == 2: print(f\"{number} is monday\")\n",
    "elif number == 3: print(f\"{number} is tuesday\")\n",
    "elif number == 4: print(f\"{number} is wednesday\")\n",
    "elif number == 5: print(f\"{number} is thursday\")\n",
    "elif number == 6: print(f\"{number} is friday\")\n",
    "elif number == 7: print(f\"{number} is saturday\")\n",
    "else: print(f\"{number} is sunday\")"
   ]
  },
  {
   "cell_type": "markdown",
   "id": "8ea2e041",
   "metadata": {},
   "source": [
    "### Bài 10:\n",
    "Tại một cửa hàng nọ có menu như sau:\n",
    "\n",
    "1. Gà rán giá 35k\n",
    "2. Hamburger giá 50k\n",
    "3. Pepsi giá 10k\n",
    "\n",
    "Nhập số lượng món hàng cần mua\n",
    "\n",
    "Tính và in ra tổng giá tiền\n",
    "\n",
    "Nếu giá trị đơn hàng trên 2 triệu, giảm 10% cho khách, trên 4 triệu, giảm 15%\n",
    "\n",
    "Tính và in ra tổng giá tiền được giảm\n",
    "\n",
    "Tính và in ra tổng giá tiền khách cần trả\n",
    "\n",
    "In ra dòng chữ \"Cảm ơn quý khách đã mua hàng\""
   ]
  },
  {
   "cell_type": "code",
   "execution_count": null,
   "id": "87c6d4a1",
   "metadata": {},
   "outputs": [],
   "source": [
    "\"\"\"Ví dụ:\n",
    "Nhập số lượng gà rán khách mua:100\n",
    "Nhập số lượng hamburger khách mua:100\n",
    "Nhập số lượng pesi khách mua:15\n",
    "Tổng giá tiền đơn hàng là: 8.650.000\n",
    "Tổng tiền được giảm là: 1.297.500\n",
    "Tổng tiền phải thanh toán: 7.352.500\n",
    "Cảm ơn quý khách đã mua\n",
    "\"\"\""
   ]
  },
  {
   "cell_type": "code",
   "execution_count": 80,
   "id": "f75fa383",
   "metadata": {
    "scrolled": false
   },
   "outputs": [
    {
     "name": "stdout",
     "output_type": "stream",
     "text": [
      "please input is fried chicket: 5\n",
      "please input is humburger: 6\n",
      "please input is pesi: 7\n",
      "total price is 545000 vnd\n",
      "total price reduction: 0 vnd\n",
      "total payment: 545000 vnd\n",
      "thank you for your purchase\n"
     ]
    }
   ],
   "source": [
    "fried_chicken = int(input(\"please input is fried chicket: \"))\n",
    "hamburger = int(input(\"please input is humburger: \"))\n",
    "pesi = int(input(\"please input is pesi: \"))\n",
    "\n",
    "total_price = fried_chicken * 35000 + hamburger * 50000 + pesi * 10000\n",
    "print(f\"total price is {total_price} vnd\")\n",
    "if total_price > 2000000 and total_price <= 4000000:\n",
    "    print(f\"total price reduction: {total_price * 0.1} vnd\")\n",
    "    print(f\"total payment: {total_price * 0.9} vnd\")\n",
    "elif total_price > 4000000: \n",
    "    print(f\"total price reduction: {total_price * 0.15} vnd\")\n",
    "    print(f\"total payment: {total_price * 0.85} vnd\")\n",
    "else: \n",
    "    print(f\"total price reduction: {total_price * 0} vnd\")\n",
    "    print(f\"total payment: {total_price} vnd\")\n",
    "    \n",
    "print(\"thank you for your purchase\")"
   ]
  },
  {
   "cell_type": "code",
   "execution_count": null,
   "id": "6840ea45",
   "metadata": {},
   "outputs": [],
   "source": [
    "# chữa bài:\n",
    "chicken_amount = int(input(\"nhập số lượng gà rán khách mua: \"))\n",
    "humburger_amount = int(input(\"nhập số lượng hamburger khách mua: \"))\n",
    "pepsi_amount = int(input(\"nhập số lượng pepsi khách mua: \"))\n",
    "\n",
    "subtotal = chicken_amount * 35000 + humburger_amount * 50000 + pepsi_amount * 10000\n",
    "discount = 0\n",
    "\n",
    "print(f\"tổng giá tiền đơn hàng là: {subtotal}\")\n",
    "\n",
    "if subtotalt >= 4000000:\n",
    "    discount = 0.15 * subtotal\n",
    "    subtotal -= discount\n",
    "    print(f\"tổng tiền được giảm là: {discount}\")\n",
    "elif subtotal >= 2000000:\n",
    "    discount = 0.1 * subtotal\n",
    "    subtotal -= discount\n",
    "    print(f\"tổng tiền được giảm là: {discount}\")\n",
    "\n",
    "\n",
    "print(f\"tổng tiền phải thanh toán: {subtotal}\")\n",
    "print(\"cảm ơn quý khách đã mua\")\n",
    "\n"
   ]
  },
  {
   "cell_type": "markdown",
   "id": "e9853dc8",
   "metadata": {},
   "source": [
    "### Bài 11:\n",
    "\n",
    "Nhập vào chiều cao (cm) và cân nặng (kg), tính số BMI và xét rồi xin kết quả theo dữ liệu sau:\n",
    "\n",
    "- BMI < 16: Gầy cấp độ III\n",
    "- 16 <= BMI < 17:  Gầy cấp độ II\n",
    "- 17<= BMI < 18.5: Gầy cấp độ I\n",
    "- 18.5 <= BMI < 25: Bình thường\n",
    "- 25 <= BMI < 30: Thừa cân\n",
    "- 30 <= BMI < 35 : Béo phì cấp độ I\n",
    "- 35 <= BMI < 40: Béo phì cấp độ II\n",
    "- BMI > 40: Béo phì cấp độ III"
   ]
  },
  {
   "cell_type": "code",
   "execution_count": 16,
   "id": "ac5f1a74",
   "metadata": {},
   "outputs": [
    {
     "name": "stdout",
     "output_type": "stream",
     "text": [
      "please input height is your: 167\n",
      "please input weight is your: 84\n",
      "you overweight\n"
     ]
    }
   ],
   "source": [
    "height = int(input(\"please input height is your: \"))\n",
    "weight = int(input(\"please input weight is your: \"))\n",
    "BMI = (weight) / ((height / 100) * 2)\n",
    "if BMI < 16: print(\"you thin level III\")\n",
    "elif BMI < 17 and BMI >= 16: print(\"you thin lever II\")\n",
    "elif BMI < 18.5 and BMI >= 17: print(\"you thin lever I\")\n",
    "elif BMI < 25 and BMI >= 18.5: print(\"you normal\")\n",
    "elif BMI < 30 and BMI >= 25: print(\"you overweight\")\n",
    "elif BMI < 35 and BMI >= 30: print(\"you fat lever I\")\n",
    "elif BMI < 40 and BMI >= 35: print(\"you fat lever II\")\n",
    "else: print(\"you fat lever III\")"
   ]
  },
  {
   "cell_type": "markdown",
   "id": "5e374dbb",
   "metadata": {},
   "source": [
    "### Bài 12: Tìm ra người lớn tuổi nhất trong 4 người thông qua số tuổi nhập vào từ người dùng."
   ]
  },
  {
   "cell_type": "code",
   "execution_count": 85,
   "id": "d0124153",
   "metadata": {},
   "outputs": [
    {
     "name": "stdout",
     "output_type": "stream",
     "text": [
      "please input age 1: 9\n",
      "please input age 2: 8\n",
      "please input age 3: 7\n",
      "please input age 4: 6\n",
      "max age is value 9\n",
      "person 1 is the oldest person\n"
     ]
    }
   ],
   "source": [
    "age_1 = int(input(\"please input age person 1: \"))\n",
    "age_2 = int(input(\"please input age person 2: \"))\n",
    "age_3 = int(input(\"please input age person 3: \"))\n",
    "age_4 = int(input(\"please input age person 4: \"))\n",
    "\n",
    "max_age = age_1\n",
    "max_index = 1\n",
    "if max_age < age_2:\n",
    "    max_age = age_2\n",
    "    max_index = 2\n",
    "if max_age < age_3:\n",
    "    max_age = age_3\n",
    "    max_index = 3\n",
    "if max_age < age_4:\n",
    "    max_age = age_4\n",
    "    max_index = 4\n",
    "\n",
    "print(f\"max age is value {max_age}\")\n",
    "print(f\"person {max_index} is the oldest person\")\n"
   ]
  },
  {
   "cell_type": "code",
   "execution_count": null,
   "id": "a12351d2",
   "metadata": {},
   "outputs": [],
   "source": [
    "# chữa bài:\n",
    "age_1 = int(input(\"please input age person 1: \"))\n",
    "age_2 = int(input(\"please input age person 2: \"))\n",
    "age_3 = int(input(\"please input age person 3: \"))\n",
    "age_4 = int(input(\"please input age person 4: \"))\n",
    "\n",
    "max_age = age_1\n",
    "max_index = 1\n",
    "if max_age < age_2:\n",
    "    max_age = age_2\n",
    "    max_index = 2\n",
    "if max_age < age_3:\n",
    "    max_age = age_3\n",
    "    max_index = 3\n",
    "if max_age < age_4:\n",
    "    max_age = age_4\n",
    "    max_index = 4\n",
    "\n",
    "print(f\"max age is value {max_age}\")\n",
    "print(f\"person {max_index} is the oldest person\")"
   ]
  },
  {
   "cell_type": "markdown",
   "id": "8b8cd5ce",
   "metadata": {},
   "source": [
    "## BONUS"
   ]
  },
  {
   "cell_type": "markdown",
   "id": "78de408b",
   "metadata": {},
   "source": [
    "### Bài 13: Viết chương trình nhập vào số đo 3 cạnh của tam giác và cho biết đó là tam giác cân, tam giác đều hay tam giác vô hướng\n",
    "Ghi chú:\n",
    " - Tam giác cân là tam giác có 2 cạnh bằng nhau\n",
    " - Tam giác đều là tam giác có 3 cạnh bằng nhau\n",
    " - Tam giác vô hướng là tam giác không có cạnh nào bằng nhau"
   ]
  },
  {
   "cell_type": "code",
   "execution_count": 2,
   "id": "13dcfd68",
   "metadata": {},
   "outputs": [
    {
     "name": "stdout",
     "output_type": "stream",
     "text": [
      "please input triangle elge is 1: 6\n",
      "please input triangle elge is 2: 7\n",
      "please input triangle elge is 3: 6\n",
      "this is isosceles triangle \n"
     ]
    }
   ],
   "source": [
    "triangel_elge_1 = int(input(\"please input triangle elge is 1: \"))\n",
    "triangle_elge_2 = int(input(\"please input triangle elge is 2: \"))\n",
    "triangle_elge_3 = int(input(\"please input triangle elge is 3: \"))\n",
    "\n",
    "if triangel_elge_1 == triangle_elge_2 and triangle_elge_2 == triangle_elge_3:\n",
    "    print(\"this is equilateral triangle\")\n",
    "elif triangel_elge_1 == triangle_elge_2 or triangle_elge_2 == triangle_elge_3 or triangel_elge_1 == triangle_elge_3:\n",
    "    print(\"this is isosceles triangle \")\n",
    "else: print(\"this is scalar triangle\")"
   ]
  },
  {
   "cell_type": "code",
   "execution_count": null,
   "id": "5f026e0e",
   "metadata": {},
   "outputs": [],
   "source": [
    "# chữa bài\n",
    "side_1 = int(input(\"Nhập kích thước cạnh thứ 1 của tam giác: \"))\n",
    "side_2 = int(input(\"Nhập kích thước cạnh thứ 2 của tam giác: \"))\n",
    "side_3 = int(input(\"Nhập kích thước cạnh thứ 3 của tam giác: \"))\n",
    "\n",
    "if side_1 == side_2 == side_3:\n",
    "    print(\"Đây là tam giác đều\")\n",
    "elif side_1 == side_2 or side_1 == side_3 or side_2 == side_3:\n",
    "    print(\"Đây là tam giác cân\")\n",
    "else:\n",
    "    print(\"Đây là tam giác vô hướng\")"
   ]
  },
  {
   "cell_type": "markdown",
   "id": "d3de6fbd",
   "metadata": {},
   "source": [
    "### Bài 14: Viết chương trình nhập vào 3 số nguyên khác nhau và in ra số lớn thứ hai"
   ]
  },
  {
   "cell_type": "code",
   "execution_count": 93,
   "id": "1d2f12a9",
   "metadata": {},
   "outputs": [
    {
     "name": "stdout",
     "output_type": "stream",
     "text": [
      "please input is 1: 8\n",
      "please input is 2: 9\n",
      "please input is 3: 7\n",
      "max value is 2: 8\n"
     ]
    }
   ],
   "source": [
    "number_1 = int(input(\"please input is 1: \"))\n",
    "number_2 = int(input(\"please input is 2: \"))\n",
    "number_3 = int(input(\"please input is 3: \"))\n",
    "\n",
    "max_number_2 = number_2\n",
    "\n",
    "if (number_3 > number_1 and number_3 < number_2) or (number_3 < number_1 and number_3 > number_2):\n",
    "    max_number_2 = number_3\n",
    "if (number_1 > number_2 and number_1 < number_3) or (number_1 < number_2 and number_1 > number_3):\n",
    "    max_number_2 = number_1\n",
    "\n",
    "print(f\"max value is 2: {max_number_2}\")"
   ]
  },
  {
   "cell_type": "code",
   "execution_count": null,
   "id": "2765e2a7",
   "metadata": {},
   "outputs": [],
   "source": [
    "# chữa bài\n",
    "a = int(input(\"Please input number a: \"))\n",
    "b = int(input(\"Please input number b: \"))\n",
    "c = int(input(\"Please input number c: \"))\n",
    "\n",
    "max_value = max(a, b, c)  # Tìm ra số lớn nhất\n",
    "min_value = min(a, b, c)  # Tìm ra số nhỏ nhất\n",
    "\n",
    "if a != max_value and a != min_value:\n",
    "    print(f\"Số lớn thứ hai là {a}\")\n",
    "elif b != max_value and b != min_value:\n",
    "    print(f\"Số lớn thứ hai là {b}\")\n",
    "else:\n",
    "    print(f\"Số lớn thứ hai là {c}\")"
   ]
  },
  {
   "attachments": {
    "image.png": {
     "image/png": "[encoded data removed]"
    }
   },
   "cell_type": "markdown",
   "id": "2b12e079",
   "metadata": {},
   "source": [
    "### Bài 15: Xem đoạn code sau:\n",
    "![image.png](attachment:image.png)\n",
    "Nếu i, j, k có các giá trị ban đầu là:\n",
    "\n",
    "a. i = 3, j = 5, k = 7\n",
    "\n",
    "b. i = 13, j = 15, k = 13\n",
    "\n",
    "Thì giá trị của i, j, k sau khi thực hiện đoạn code trên là bao nhiêu?(kiểm tra bằng cách tính nhẩm, không code lại)"
   ]
  },
  {
   "cell_type": "markdown",
   "id": "9638317d",
   "metadata": {},
   "source": [
    "5,5,7   13,13,13"
   ]
  },
  {
   "cell_type": "markdown",
   "id": "e050841c",
   "metadata": {},
   "source": [
    "### Bài 16: Viết một chương trình thực hiện phép tính đơn giản như sau:\n",
    "```\n",
    "    Nhập số thứ nhất: 16\n",
    "    Nhập số thứ hai: 9\n",
    "    Nhập toán tử (+, -, *, /): +\n",
    "    Kết quả: 16 + 9 = 25\n",
    "```"
   ]
  },
  {
   "cell_type": "code",
   "execution_count": 75,
   "id": "14cda4fa",
   "metadata": {},
   "outputs": [
    {
     "name": "stdout",
     "output_type": "stream",
     "text": [
      "please input number 1: 16\n",
      "please input number 2: 9\n",
      "please input operator: +\n",
      "result is:  16 + 9 = 25\n"
     ]
    }
   ],
   "source": [
    "number_1 = int(input(\"please input number 1: \"))\n",
    "number_2 = int(input(\"please input number 2: \"))\n",
    "operator = str(input(\"please input operator: \"))\n",
    "\n",
    "if operator == \"+\":\n",
    "    print(f\"result is:  {number_1} {operator} {number_2} = {number_1 + number_2}\")\n",
    "if operator == \"-\":\n",
    "    print(f\"result is:  {number_1} {operator} {number_2} = {number_1 - number_2}\")\n",
    "if operator == \"*\":\n",
    "    print(f\"result is:  {number_1} {operator} {number_2} = {number_1 * number_2}\")\n",
    "if operator == \"/\":\n",
    "    print(f\"result is:  {number_1} {operator} {number_2} = {number_1 / number_2}\")"
   ]
  },
  {
   "cell_type": "code",
   "execution_count": null,
   "id": "d6a2e842",
   "metadata": {},
   "outputs": [],
   "source": [
    "# chữa bài\n",
    "# Cách 2\n",
    "num1 = int(input(\"Nhập số thứ nhất: \"))\n",
    "num2 = int(input(\"Nhập số thứ hai: \"))\n",
    "op = input(\"Nhập toán tử (+, -, *, /): \")\n",
    "print(f\"Kết quả: {num1} {op} {num2} = {eval(f'{num1}{op}{num2}')}\")"
   ]
  },
  {
   "cell_type": "code",
   "execution_count": null,
   "id": "7096a00a",
   "metadata": {},
   "outputs": [],
   "source": [
    "# chữa bài\n",
    "# Cách 1\n",
    "num1 = int(input(\"Nhập số thứ nhất: \"))\n",
    "num2 = int(input(\"Nhập số thứ hai: \"))\n",
    "op = input(\"Nhập toán tử (+, -, *, /): \")\n",
    "if op == \"+\":\n",
    "    print(f\"Kết quả: {num1} {op} {num2} = {num1+num2}\")\n",
    "elif op == \"-\":\n",
    "    print(f\"Kết quả: {num1} {op} {num2} = {num1-num2}\")\n",
    "elif op == \"*\":\n",
    "    print(f\"Kết quả: {num1} {op} {num2} = {num1*num2}\")\n",
    "elif op == \"/\":\n",
    "    print(f\"Kết quả: {num1} {op} {num2} = {num1/num2}\")"
   ]
  },
  {
   "cell_type": "markdown",
   "id": "8044d943",
   "metadata": {},
   "source": [
    "### Bài 17: Viết chương trình nhập vào 3 số nguyên và in ra màn hình theo thứ tự từ lớn đến bé."
   ]
  },
  {
   "cell_type": "code",
   "execution_count": 92,
   "id": "67e51662",
   "metadata": {
    "scrolled": false
   },
   "outputs": [
    {
     "name": "stdout",
     "output_type": "stream",
     "text": [
      "please input number 1: 7\n",
      "please input number 2: 9\n",
      "please input number 3: 5\n",
      "Display numbers from large to small: 9 7 5\n"
     ]
    }
   ],
   "source": [
    "number_1 = int(input(\"please input number 1: \"))\n",
    "number_2 = int(input(\"please input number 2: \"))\n",
    "number_3 = int(input(\"please input number 3: \"))\n",
    "\n",
    "number_max = number_1\n",
    "if number_max < number_2:\n",
    "    number_max = number_2\n",
    "if number_max < number_3:\n",
    "    number_max = number_3\n",
    "\n",
    "number_betwen = number_1\n",
    "if (number_2 > number_1 and number_2 < number_3) or (number_2 < number_1 and number_2 > number_3):\n",
    "    number_betwen = number_2\n",
    "if (number_3 > number_1 and number_3 < number_2) or (number_3 < number_1 and number_3 > number_2):\n",
    "    number_betwen = number_3\n",
    "\n",
    "number_min = number_1\n",
    "if number_min > number_2:\n",
    "    number_min = number_2\n",
    "if number_min > number_3:\n",
    "    number_min = number_3\n",
    "    \n",
    "\n",
    "    \n",
    "print(f\"Display numbers from large to small: {number_max} {number_betwen} {number_min}\")\n"
   ]
  },
  {
   "cell_type": "code",
   "execution_count": null,
   "id": "1043cc09",
   "metadata": {},
   "outputs": [],
   "source": [
    "# chữa bài\n",
    "a = int(input(\"Please input number a: \"))\n",
    "b = int(input(\"Please input number b: \"))\n",
    "c = int(input(\"Please input number c: \"))\n",
    "\n",
    "max_value = max(a, b, c)  # Tìm ra số lớn nhất\n",
    "min_value = min(a, b, c)  # Tìm ra số nhỏ nhất\n",
    "\n",
    "if a != max_value and a != min_value:\n",
    "    mid_value = a\n",
    "elif b != max_value and b != min_value:\n",
    "    mid_value = b\n",
    "else:\n",
    "    mid_value = c\n",
    "    \n",
    "print(f\"Decendindg order: {max_value} {mid_value} {min_value}\")"
   ]
  },
  {
   "cell_type": "code",
   "execution_count": null,
   "id": "e3733945",
   "metadata": {},
   "outputs": [],
   "source": []
  }
 ],
 "metadata": {
  "kernelspec": {
   "display_name": "Python 3 (ipykernel)",
   "language": "python",
   "name": "python3"
  },
  "language_info": {
   "codemirror_mode": {
    "name": "ipython",
    "version": 3
   },
   "file_extension": ".py",
   "mimetype": "text/x-python",
   "name": "python",
   "nbconvert_exporter": "python",
   "pygments_lexer": "ipython3",
   "version": "3.11.1"
  }
 },
 "nbformat": 4,
 "nbformat_minor": 5
}
